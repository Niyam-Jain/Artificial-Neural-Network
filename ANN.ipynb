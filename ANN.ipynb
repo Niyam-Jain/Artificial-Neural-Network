{
 "cells": [
  {
   "cell_type": "code",
   "execution_count": 8,
   "id": "deee529c",
   "metadata": {},
   "outputs": [],
   "source": [
    "import numpy as np\n",
    "import pandas as pd\n",
    "import tensorflow as tf"
   ]
  },
  {
   "cell_type": "code",
   "execution_count": null,
   "id": "c5a45502",
   "metadata": {},
   "outputs": [],
   "source": [
    "# Data Preprocessing\n",
    "# Data Preprocessing\n",
    "# Data Preprocessing\n",
    "# Data Preprocessing\n",
    "# Data Preprocessing\n",
    "# Data Preprocessing\n",
    "# Data Preprocessing"
   ]
  },
  {
   "cell_type": "code",
   "execution_count": 9,
   "id": "eea6c5c9",
   "metadata": {},
   "outputs": [],
   "source": [
    "df = pd.read_csv('Churn_Modelling.csv')"
   ]
  },
  {
   "cell_type": "code",
   "execution_count": 10,
   "id": "a5edb2ce",
   "metadata": {},
   "outputs": [
    {
     "data": {
      "text/html": [
       "<div>\n",
       "<style scoped>\n",
       "    .dataframe tbody tr th:only-of-type {\n",
       "        vertical-align: middle;\n",
       "    }\n",
       "\n",
       "    .dataframe tbody tr th {\n",
       "        vertical-align: top;\n",
       "    }\n",
       "\n",
       "    .dataframe thead th {\n",
       "        text-align: right;\n",
       "    }\n",
       "</style>\n",
       "<table border=\"1\" class=\"dataframe\">\n",
       "  <thead>\n",
       "    <tr style=\"text-align: right;\">\n",
       "      <th></th>\n",
       "      <th>RowNumber</th>\n",
       "      <th>CustomerId</th>\n",
       "      <th>Surname</th>\n",
       "      <th>CreditScore</th>\n",
       "      <th>Geography</th>\n",
       "      <th>Gender</th>\n",
       "      <th>Age</th>\n",
       "      <th>Tenure</th>\n",
       "      <th>Balance</th>\n",
       "      <th>NumOfProducts</th>\n",
       "      <th>HasCrCard</th>\n",
       "      <th>IsActiveMember</th>\n",
       "      <th>EstimatedSalary</th>\n",
       "      <th>Exited</th>\n",
       "    </tr>\n",
       "  </thead>\n",
       "  <tbody>\n",
       "    <tr>\n",
       "      <th>0</th>\n",
       "      <td>1</td>\n",
       "      <td>15634602</td>\n",
       "      <td>Hargrave</td>\n",
       "      <td>619</td>\n",
       "      <td>France</td>\n",
       "      <td>Female</td>\n",
       "      <td>42</td>\n",
       "      <td>2</td>\n",
       "      <td>0.00</td>\n",
       "      <td>1</td>\n",
       "      <td>1</td>\n",
       "      <td>1</td>\n",
       "      <td>101348.88</td>\n",
       "      <td>1</td>\n",
       "    </tr>\n",
       "    <tr>\n",
       "      <th>1</th>\n",
       "      <td>2</td>\n",
       "      <td>15647311</td>\n",
       "      <td>Hill</td>\n",
       "      <td>608</td>\n",
       "      <td>Spain</td>\n",
       "      <td>Female</td>\n",
       "      <td>41</td>\n",
       "      <td>1</td>\n",
       "      <td>83807.86</td>\n",
       "      <td>1</td>\n",
       "      <td>0</td>\n",
       "      <td>1</td>\n",
       "      <td>112542.58</td>\n",
       "      <td>0</td>\n",
       "    </tr>\n",
       "    <tr>\n",
       "      <th>2</th>\n",
       "      <td>3</td>\n",
       "      <td>15619304</td>\n",
       "      <td>Onio</td>\n",
       "      <td>502</td>\n",
       "      <td>France</td>\n",
       "      <td>Female</td>\n",
       "      <td>42</td>\n",
       "      <td>8</td>\n",
       "      <td>159660.80</td>\n",
       "      <td>3</td>\n",
       "      <td>1</td>\n",
       "      <td>0</td>\n",
       "      <td>113931.57</td>\n",
       "      <td>1</td>\n",
       "    </tr>\n",
       "    <tr>\n",
       "      <th>3</th>\n",
       "      <td>4</td>\n",
       "      <td>15701354</td>\n",
       "      <td>Boni</td>\n",
       "      <td>699</td>\n",
       "      <td>France</td>\n",
       "      <td>Female</td>\n",
       "      <td>39</td>\n",
       "      <td>1</td>\n",
       "      <td>0.00</td>\n",
       "      <td>2</td>\n",
       "      <td>0</td>\n",
       "      <td>0</td>\n",
       "      <td>93826.63</td>\n",
       "      <td>0</td>\n",
       "    </tr>\n",
       "    <tr>\n",
       "      <th>4</th>\n",
       "      <td>5</td>\n",
       "      <td>15737888</td>\n",
       "      <td>Mitchell</td>\n",
       "      <td>850</td>\n",
       "      <td>Spain</td>\n",
       "      <td>Female</td>\n",
       "      <td>43</td>\n",
       "      <td>2</td>\n",
       "      <td>125510.82</td>\n",
       "      <td>1</td>\n",
       "      <td>1</td>\n",
       "      <td>1</td>\n",
       "      <td>79084.10</td>\n",
       "      <td>0</td>\n",
       "    </tr>\n",
       "  </tbody>\n",
       "</table>\n",
       "</div>"
      ],
      "text/plain": [
       "   RowNumber  CustomerId   Surname  CreditScore Geography  Gender  Age  \\\n",
       "0          1    15634602  Hargrave          619    France  Female   42   \n",
       "1          2    15647311      Hill          608     Spain  Female   41   \n",
       "2          3    15619304      Onio          502    France  Female   42   \n",
       "3          4    15701354      Boni          699    France  Female   39   \n",
       "4          5    15737888  Mitchell          850     Spain  Female   43   \n",
       "\n",
       "   Tenure    Balance  NumOfProducts  HasCrCard  IsActiveMember  \\\n",
       "0       2       0.00              1          1               1   \n",
       "1       1   83807.86              1          0               1   \n",
       "2       8  159660.80              3          1               0   \n",
       "3       1       0.00              2          0               0   \n",
       "4       2  125510.82              1          1               1   \n",
       "\n",
       "   EstimatedSalary  Exited  \n",
       "0        101348.88       1  \n",
       "1        112542.58       0  \n",
       "2        113931.57       1  \n",
       "3         93826.63       0  \n",
       "4         79084.10       0  "
      ]
     },
     "execution_count": 10,
     "metadata": {},
     "output_type": "execute_result"
    }
   ],
   "source": [
    "df.head()"
   ]
  },
  {
   "cell_type": "code",
   "execution_count": 11,
   "id": "1369bb48",
   "metadata": {},
   "outputs": [
    {
     "data": {
      "text/plain": [
       "<bound method NDFrame.describe of       RowNumber  CustomerId    Surname  CreditScore Geography  Gender  Age  \\\n",
       "0             1    15634602   Hargrave          619    France  Female   42   \n",
       "1             2    15647311       Hill          608     Spain  Female   41   \n",
       "2             3    15619304       Onio          502    France  Female   42   \n",
       "3             4    15701354       Boni          699    France  Female   39   \n",
       "4             5    15737888   Mitchell          850     Spain  Female   43   \n",
       "...         ...         ...        ...          ...       ...     ...  ...   \n",
       "9995       9996    15606229   Obijiaku          771    France    Male   39   \n",
       "9996       9997    15569892  Johnstone          516    France    Male   35   \n",
       "9997       9998    15584532        Liu          709    France  Female   36   \n",
       "9998       9999    15682355  Sabbatini          772   Germany    Male   42   \n",
       "9999      10000    15628319     Walker          792    France  Female   28   \n",
       "\n",
       "      Tenure    Balance  NumOfProducts  HasCrCard  IsActiveMember  \\\n",
       "0          2       0.00              1          1               1   \n",
       "1          1   83807.86              1          0               1   \n",
       "2          8  159660.80              3          1               0   \n",
       "3          1       0.00              2          0               0   \n",
       "4          2  125510.82              1          1               1   \n",
       "...      ...        ...            ...        ...             ...   \n",
       "9995       5       0.00              2          1               0   \n",
       "9996      10   57369.61              1          1               1   \n",
       "9997       7       0.00              1          0               1   \n",
       "9998       3   75075.31              2          1               0   \n",
       "9999       4  130142.79              1          1               0   \n",
       "\n",
       "      EstimatedSalary  Exited  \n",
       "0           101348.88       1  \n",
       "1           112542.58       0  \n",
       "2           113931.57       1  \n",
       "3            93826.63       0  \n",
       "4            79084.10       0  \n",
       "...               ...     ...  \n",
       "9995         96270.64       0  \n",
       "9996        101699.77       0  \n",
       "9997         42085.58       1  \n",
       "9998         92888.52       1  \n",
       "9999         38190.78       0  \n",
       "\n",
       "[10000 rows x 14 columns]>"
      ]
     },
     "execution_count": 11,
     "metadata": {},
     "output_type": "execute_result"
    }
   ],
   "source": [
    "df.describe"
   ]
  },
  {
   "cell_type": "code",
   "execution_count": 20,
   "id": "265f93bd",
   "metadata": {},
   "outputs": [],
   "source": [
    "X = df.iloc[:,3:-1].values\n",
    "y = df.iloc[:, -1].values"
   ]
  },
  {
   "cell_type": "code",
   "execution_count": 21,
   "id": "fffc527c",
   "metadata": {},
   "outputs": [
    {
     "name": "stdout",
     "output_type": "stream",
     "text": [
      "[[619 'France' 'Female' ... 1 1 101348.88]\n",
      " [608 'Spain' 'Female' ... 0 1 112542.58]\n",
      " [502 'France' 'Female' ... 1 0 113931.57]\n",
      " ...\n",
      " [709 'France' 'Female' ... 0 1 42085.58]\n",
      " [772 'Germany' 'Male' ... 1 0 92888.52]\n",
      " [792 'France' 'Female' ... 1 0 38190.78]]\n"
     ]
    }
   ],
   "source": [
    "print(X)"
   ]
  },
  {
   "cell_type": "code",
   "execution_count": 22,
   "id": "3761dce1",
   "metadata": {},
   "outputs": [
    {
     "name": "stdout",
     "output_type": "stream",
     "text": [
      "[1 0 1 ... 1 1 0]\n"
     ]
    }
   ],
   "source": [
    "print(y)"
   ]
  },
  {
   "cell_type": "code",
   "execution_count": 23,
   "id": "190b43ed",
   "metadata": {},
   "outputs": [],
   "source": [
    "from sklearn.preprocessing import LabelEncoder\n",
    "\n",
    "le = LabelEncoder()\n",
    "X[:, 2] = le.fit_transform(X[:, 2])"
   ]
  },
  {
   "cell_type": "code",
   "execution_count": 24,
   "id": "aee40915",
   "metadata": {
    "collapsed": true
   },
   "outputs": [
    {
     "name": "stdout",
     "output_type": "stream",
     "text": [
      "[[619 'France' 0 ... 1 1 101348.88]\n",
      " [608 'Spain' 0 ... 0 1 112542.58]\n",
      " [502 'France' 0 ... 1 0 113931.57]\n",
      " ...\n",
      " [709 'France' 0 ... 0 1 42085.58]\n",
      " [772 'Germany' 1 ... 1 0 92888.52]\n",
      " [792 'France' 0 ... 1 0 38190.78]]\n"
     ]
    }
   ],
   "source": [
    "print(X)"
   ]
  },
  {
   "cell_type": "code",
   "execution_count": 26,
   "id": "87f35867",
   "metadata": {},
   "outputs": [],
   "source": [
    "from sklearn.compose import ColumnTransformer\n",
    "from sklearn.preprocessing import OneHotEncoder\n",
    "ct = ColumnTransformer(transformers = [('encoder', OneHotEncoder(), [1])], remainder='passthrough')\n",
    "X = np.array(ct.fit_transform(X))"
   ]
  },
  {
   "cell_type": "code",
   "execution_count": 27,
   "id": "c2a82c56",
   "metadata": {},
   "outputs": [
    {
     "name": "stdout",
     "output_type": "stream",
     "text": [
      "[[1.0 0.0 0.0 ... 1 1 101348.88]\n",
      " [0.0 0.0 1.0 ... 0 1 112542.58]\n",
      " [1.0 0.0 0.0 ... 1 0 113931.57]\n",
      " ...\n",
      " [1.0 0.0 0.0 ... 0 1 42085.58]\n",
      " [0.0 1.0 0.0 ... 1 0 92888.52]\n",
      " [1.0 0.0 0.0 ... 1 0 38190.78]]\n"
     ]
    }
   ],
   "source": [
    "print(X)"
   ]
  },
  {
   "cell_type": "code",
   "execution_count": 28,
   "id": "71760eb1",
   "metadata": {},
   "outputs": [],
   "source": [
    "from sklearn.model_selection import train_test_splittest_split"
   ]
  },
  {
   "cell_type": "code",
   "execution_count": 30,
   "id": "503db1a6",
   "metadata": {},
   "outputs": [],
   "source": [
    " X_train, X_test, y_train, y_test = train_test_split(X, y, test_size=0.33, random_state=101)"
   ]
  },
  {
   "cell_type": "code",
   "execution_count": 31,
   "id": "859438fa",
   "metadata": {},
   "outputs": [],
   "source": [
    "from sklearn.preprocessing import StandardScaler\n",
    "sc = StandardScaler()\n",
    "X_train = sc.fit_transform(X_train)\n",
    "X_test = sc.transform(X_test)"
   ]
  },
  {
   "cell_type": "code",
   "execution_count": 32,
   "id": "28aafeeb",
   "metadata": {},
   "outputs": [],
   "source": [
    "# Building ANN\n",
    "# Building ANN\n",
    "# Building ANN\n",
    "# Building ANN\n",
    "# Building ANN\n",
    "# Building ANN\n",
    "# Building ANN"
   ]
  },
  {
   "cell_type": "code",
   "execution_count": 33,
   "id": "7a26a953",
   "metadata": {},
   "outputs": [],
   "source": [
    "ann = tf.keras.models.Sequential()"
   ]
  },
  {
   "cell_type": "code",
   "execution_count": 34,
   "id": "74209b3a",
   "metadata": {},
   "outputs": [],
   "source": [
    "ann.add(tf.keras.layers.Dense(units=6, activation='relu'))"
   ]
  },
  {
   "cell_type": "code",
   "execution_count": 35,
   "id": "0a211428",
   "metadata": {},
   "outputs": [],
   "source": [
    "ann.add(tf.keras.layers.Dense(units=6, activation='relu'))"
   ]
  },
  {
   "cell_type": "code",
   "execution_count": 36,
   "id": "6cab6563",
   "metadata": {},
   "outputs": [],
   "source": [
    "ann.add(tf.keras.layers.Dense(units=1, activation='sigmoid'))"
   ]
  },
  {
   "cell_type": "code",
   "execution_count": 37,
   "id": "db5d3870",
   "metadata": {},
   "outputs": [],
   "source": [
    "#Training the ANN\n",
    "#Training the ANN\n",
    "#Training the ANN\n",
    "#Training the ANN\n",
    "#Training the ANN\n",
    "#Training the ANN\n",
    "#Training the ANN\n",
    "#Training the ANN"
   ]
  },
  {
   "cell_type": "code",
   "execution_count": 38,
   "id": "062ead92",
   "metadata": {},
   "outputs": [],
   "source": [
    "ann.compile(optimizer='adam' ,loss='binary_crossentropy' ,metrics=['accuracy'])"
   ]
  },
  {
   "cell_type": "code",
   "execution_count": 39,
   "id": "9712b000",
   "metadata": {
    "scrolled": true
   },
   "outputs": [
    {
     "name": "stdout",
     "output_type": "stream",
     "text": [
      "Epoch 1/100\n",
      "210/210 [==============================] - 3s 4ms/step - loss: 0.6588 - accuracy: 0.6588\n",
      "Epoch 2/100\n",
      "210/210 [==============================] - 1s 4ms/step - loss: 0.5079 - accuracy: 0.7949\n",
      "Epoch 3/100\n",
      "210/210 [==============================] - 1s 4ms/step - loss: 0.4696 - accuracy: 0.8036\n",
      "Epoch 4/100\n",
      "210/210 [==============================] - 1s 4ms/step - loss: 0.4512 - accuracy: 0.8097\n",
      "Epoch 5/100\n",
      "210/210 [==============================] - 1s 4ms/step - loss: 0.4410 - accuracy: 0.8103\n",
      "Epoch 6/100\n",
      "210/210 [==============================] - 1s 4ms/step - loss: 0.4332 - accuracy: 0.8122\n",
      "Epoch 7/100\n",
      "210/210 [==============================] - 1s 4ms/step - loss: 0.4274 - accuracy: 0.8164\n",
      "Epoch 8/100\n",
      "210/210 [==============================] - 1s 4ms/step - loss: 0.4209 - accuracy: 0.8169\n",
      "Epoch 9/100\n",
      "210/210 [==============================] - 1s 4ms/step - loss: 0.4156 - accuracy: 0.8193\n",
      "Epoch 10/100\n",
      "210/210 [==============================] - 1s 4ms/step - loss: 0.4094 - accuracy: 0.8204\n",
      "Epoch 11/100\n",
      "210/210 [==============================] - 1s 4ms/step - loss: 0.4036 - accuracy: 0.8252\n",
      "Epoch 12/100\n",
      "210/210 [==============================] - 1s 4ms/step - loss: 0.3978 - accuracy: 0.8255\n",
      "Epoch 13/100\n",
      "210/210 [==============================] - 1s 4ms/step - loss: 0.3926 - accuracy: 0.8294\n",
      "Epoch 14/100\n",
      "210/210 [==============================] - 1s 4ms/step - loss: 0.3876 - accuracy: 0.8334\n",
      "Epoch 15/100\n",
      "210/210 [==============================] - 1s 4ms/step - loss: 0.3830 - accuracy: 0.8369\n",
      "Epoch 16/100\n",
      "210/210 [==============================] - 1s 4ms/step - loss: 0.3786 - accuracy: 0.8399\n",
      "Epoch 17/100\n",
      "210/210 [==============================] - 1s 4ms/step - loss: 0.3758 - accuracy: 0.8396\n",
      "Epoch 18/100\n",
      "210/210 [==============================] - 1s 4ms/step - loss: 0.3719 - accuracy: 0.8422\n",
      "Epoch 19/100\n",
      "210/210 [==============================] - 1s 4ms/step - loss: 0.3700 - accuracy: 0.8442\n",
      "Epoch 20/100\n",
      "210/210 [==============================] - 1s 4ms/step - loss: 0.3672 - accuracy: 0.8436\n",
      "Epoch 21/100\n",
      "210/210 [==============================] - 1s 4ms/step - loss: 0.3655 - accuracy: 0.8458\n",
      "Epoch 22/100\n",
      "210/210 [==============================] - 1s 4ms/step - loss: 0.3638 - accuracy: 0.8457\n",
      "Epoch 23/100\n",
      "210/210 [==============================] - 1s 4ms/step - loss: 0.3619 - accuracy: 0.8469\n",
      "Epoch 24/100\n",
      "210/210 [==============================] - 1s 4ms/step - loss: 0.3618 - accuracy: 0.8493\n",
      "Epoch 25/100\n",
      "210/210 [==============================] - 1s 4ms/step - loss: 0.3600 - accuracy: 0.8504\n",
      "Epoch 26/100\n",
      "210/210 [==============================] - 1s 5ms/step - loss: 0.3597 - accuracy: 0.8512\n",
      "Epoch 27/100\n",
      "210/210 [==============================] - 1s 4ms/step - loss: 0.3583 - accuracy: 0.8499\n",
      "Epoch 28/100\n",
      "210/210 [==============================] - 1s 4ms/step - loss: 0.3577 - accuracy: 0.8507\n",
      "Epoch 29/100\n",
      "210/210 [==============================] - 1s 4ms/step - loss: 0.3568 - accuracy: 0.8518\n",
      "Epoch 30/100\n",
      "210/210 [==============================] - 1s 4ms/step - loss: 0.3562 - accuracy: 0.8530\n",
      "Epoch 31/100\n",
      "210/210 [==============================] - 1s 4ms/step - loss: 0.3557 - accuracy: 0.8515\n",
      "Epoch 32/100\n",
      "210/210 [==============================] - 1s 4ms/step - loss: 0.3548 - accuracy: 0.8513\n",
      "Epoch 33/100\n",
      "210/210 [==============================] - 1s 4ms/step - loss: 0.3541 - accuracy: 0.8533\n",
      "Epoch 34/100\n",
      "210/210 [==============================] - 1s 5ms/step - loss: 0.3543 - accuracy: 0.8537\n",
      "Epoch 35/100\n",
      "210/210 [==============================] - 1s 4ms/step - loss: 0.3536 - accuracy: 0.8524\n",
      "Epoch 36/100\n",
      "210/210 [==============================] - 1s 4ms/step - loss: 0.3533 - accuracy: 0.8540\n",
      "Epoch 37/100\n",
      "210/210 [==============================] - 1s 4ms/step - loss: 0.3527 - accuracy: 0.8543\n",
      "Epoch 38/100\n",
      "210/210 [==============================] - 1s 4ms/step - loss: 0.3524 - accuracy: 0.8531\n",
      "Epoch 39/100\n",
      "210/210 [==============================] - 1s 4ms/step - loss: 0.3517 - accuracy: 0.8555\n",
      "Epoch 40/100\n",
      "210/210 [==============================] - 1s 4ms/step - loss: 0.3515 - accuracy: 0.8566\n",
      "Epoch 41/100\n",
      "210/210 [==============================] - 1s 4ms/step - loss: 0.3509 - accuracy: 0.8555\n",
      "Epoch 42/100\n",
      "210/210 [==============================] - 1s 4ms/step - loss: 0.3503 - accuracy: 0.8560\n",
      "Epoch 43/100\n",
      "210/210 [==============================] - 1s 4ms/step - loss: 0.3499 - accuracy: 0.8566\n",
      "Epoch 44/100\n",
      "210/210 [==============================] - 1s 4ms/step - loss: 0.3497 - accuracy: 0.8575\n",
      "Epoch 45/100\n",
      "210/210 [==============================] - 1s 4ms/step - loss: 0.3493 - accuracy: 0.8560\n",
      "Epoch 46/100\n",
      "210/210 [==============================] - 1s 4ms/step - loss: 0.3492 - accuracy: 0.8564\n",
      "Epoch 47/100\n",
      "210/210 [==============================] - 1s 4ms/step - loss: 0.3483 - accuracy: 0.8555\n",
      "Epoch 48/100\n",
      "210/210 [==============================] - 1s 4ms/step - loss: 0.3477 - accuracy: 0.8564\n",
      "Epoch 49/100\n",
      "210/210 [==============================] - 1s 4ms/step - loss: 0.3478 - accuracy: 0.8563\n",
      "Epoch 50/100\n",
      "210/210 [==============================] - 1s 4ms/step - loss: 0.3472 - accuracy: 0.8560\n",
      "Epoch 51/100\n",
      "210/210 [==============================] - 1s 4ms/step - loss: 0.3466 - accuracy: 0.8551\n",
      "Epoch 52/100\n",
      "210/210 [==============================] - 1s 4ms/step - loss: 0.3461 - accuracy: 0.8573\n",
      "Epoch 53/100\n",
      "210/210 [==============================] - 1s 4ms/step - loss: 0.3457 - accuracy: 0.8567\n",
      "Epoch 54/100\n",
      "210/210 [==============================] - 1s 4ms/step - loss: 0.3455 - accuracy: 0.8575\n",
      "Epoch 55/100\n",
      "210/210 [==============================] - 1s 4ms/step - loss: 0.3446 - accuracy: 0.8590\n",
      "Epoch 56/100\n",
      "210/210 [==============================] - 1s 4ms/step - loss: 0.3444 - accuracy: 0.8573\n",
      "Epoch 57/100\n",
      "210/210 [==============================] - 1s 4ms/step - loss: 0.3442 - accuracy: 0.8582\n",
      "Epoch 58/100\n",
      "210/210 [==============================] - 1s 4ms/step - loss: 0.3436 - accuracy: 0.8575\n",
      "Epoch 59/100\n",
      "210/210 [==============================] - 1s 4ms/step - loss: 0.3432 - accuracy: 0.8579\n",
      "Epoch 60/100\n",
      "210/210 [==============================] - 1s 4ms/step - loss: 0.3429 - accuracy: 0.8578\n",
      "Epoch 61/100\n",
      "210/210 [==============================] - 1s 4ms/step - loss: 0.3424 - accuracy: 0.8594\n",
      "Epoch 62/100\n",
      "210/210 [==============================] - 1s 4ms/step - loss: 0.3420 - accuracy: 0.8603\n",
      "Epoch 63/100\n",
      "210/210 [==============================] - 1s 4ms/step - loss: 0.3416 - accuracy: 0.8612\n",
      "Epoch 64/100\n",
      "210/210 [==============================] - 1s 4ms/step - loss: 0.3414 - accuracy: 0.8596\n",
      "Epoch 65/100\n",
      "210/210 [==============================] - 1s 4ms/step - loss: 0.3410 - accuracy: 0.8609\n",
      "Epoch 66/100\n",
      "210/210 [==============================] - 1s 4ms/step - loss: 0.3408 - accuracy: 0.8600\n",
      "Epoch 67/100\n",
      "210/210 [==============================] - 1s 4ms/step - loss: 0.3412 - accuracy: 0.8601\n",
      "Epoch 68/100\n",
      "210/210 [==============================] - 1s 4ms/step - loss: 0.3401 - accuracy: 0.8600\n",
      "Epoch 69/100\n",
      "210/210 [==============================] - 1s 4ms/step - loss: 0.3398 - accuracy: 0.8612\n",
      "Epoch 70/100\n",
      "210/210 [==============================] - 1s 4ms/step - loss: 0.3394 - accuracy: 0.8615\n",
      "Epoch 71/100\n",
      "210/210 [==============================] - 1s 6ms/step - loss: 0.3390 - accuracy: 0.8622\n",
      "Epoch 72/100\n",
      "210/210 [==============================] - 1s 5ms/step - loss: 0.3390 - accuracy: 0.8618\n",
      "Epoch 73/100\n",
      "210/210 [==============================] - 1s 5ms/step - loss: 0.3385 - accuracy: 0.8607\n",
      "Epoch 74/100\n",
      "210/210 [==============================] - 1s 4ms/step - loss: 0.3382 - accuracy: 0.8628\n",
      "Epoch 75/100\n",
      "210/210 [==============================] - 1s 4ms/step - loss: 0.3382 - accuracy: 0.8631\n",
      "Epoch 76/100\n",
      "210/210 [==============================] - 1s 4ms/step - loss: 0.3385 - accuracy: 0.8624\n",
      "Epoch 77/100\n",
      "210/210 [==============================] - 1s 4ms/step - loss: 0.3382 - accuracy: 0.8604\n",
      "Epoch 78/100\n",
      "210/210 [==============================] - 1s 4ms/step - loss: 0.3382 - accuracy: 0.8615\n",
      "Epoch 79/100\n",
      "210/210 [==============================] - 1s 4ms/step - loss: 0.3379 - accuracy: 0.8600\n",
      "Epoch 80/100\n",
      "210/210 [==============================] - 1s 4ms/step - loss: 0.3375 - accuracy: 0.8606\n",
      "Epoch 81/100\n"
     ]
    },
    {
     "name": "stdout",
     "output_type": "stream",
     "text": [
      "210/210 [==============================] - 1s 5ms/step - loss: 0.3380 - accuracy: 0.8609\n",
      "Epoch 82/100\n",
      "210/210 [==============================] - 1s 4ms/step - loss: 0.3374 - accuracy: 0.8627\n",
      "Epoch 83/100\n",
      "210/210 [==============================] - 1s 4ms/step - loss: 0.3375 - accuracy: 0.8601\n",
      "Epoch 84/100\n",
      "210/210 [==============================] - 1s 4ms/step - loss: 0.3372 - accuracy: 0.8633\n",
      "Epoch 85/100\n",
      "210/210 [==============================] - 1s 5ms/step - loss: 0.3374 - accuracy: 0.8631\n",
      "Epoch 86/100\n",
      "210/210 [==============================] - 1s 4ms/step - loss: 0.3367 - accuracy: 0.8621\n",
      "Epoch 87/100\n",
      "210/210 [==============================] - 1s 4ms/step - loss: 0.3364 - accuracy: 0.8634\n",
      "Epoch 88/100\n",
      "210/210 [==============================] - 1s 4ms/step - loss: 0.3368 - accuracy: 0.8621\n",
      "Epoch 89/100\n",
      "210/210 [==============================] - 1s 4ms/step - loss: 0.3365 - accuracy: 0.8640\n",
      "Epoch 90/100\n",
      "210/210 [==============================] - 1s 4ms/step - loss: 0.3365 - accuracy: 0.8624\n",
      "Epoch 91/100\n",
      "210/210 [==============================] - 1s 4ms/step - loss: 0.3362 - accuracy: 0.8655\n",
      "Epoch 92/100\n",
      "210/210 [==============================] - 1s 4ms/step - loss: 0.3363 - accuracy: 0.8637\n",
      "Epoch 93/100\n",
      "210/210 [==============================] - 1s 4ms/step - loss: 0.3366 - accuracy: 0.8646\n",
      "Epoch 94/100\n",
      "210/210 [==============================] - 1s 4ms/step - loss: 0.3361 - accuracy: 0.8637\n",
      "Epoch 95/100\n",
      "210/210 [==============================] - 1s 4ms/step - loss: 0.3355 - accuracy: 0.8634\n",
      "Epoch 96/100\n",
      "210/210 [==============================] - 1s 4ms/step - loss: 0.3361 - accuracy: 0.8625\n",
      "Epoch 97/100\n",
      "210/210 [==============================] - 1s 4ms/step - loss: 0.3357 - accuracy: 0.8627\n",
      "Epoch 98/100\n",
      "210/210 [==============================] - 1s 4ms/step - loss: 0.3356 - accuracy: 0.8636\n",
      "Epoch 99/100\n",
      "210/210 [==============================] - 1s 4ms/step - loss: 0.3359 - accuracy: 0.8619\n",
      "Epoch 100/100\n",
      "210/210 [==============================] - 1s 4ms/step - loss: 0.3360 - accuracy: 0.8637\n"
     ]
    },
    {
     "data": {
      "text/plain": [
       "<keras.src.callbacks.History at 0x1d0cb2e83d0>"
      ]
     },
     "execution_count": 39,
     "metadata": {},
     "output_type": "execute_result"
    }
   ],
   "source": [
    "ann.fit(X_train, y_train, batch_size=32, epochs=100)"
   ]
  },
  {
   "cell_type": "code",
   "execution_count": 41,
   "id": "7b3b86dd",
   "metadata": {},
   "outputs": [],
   "source": [
    "# Making the Predictions and Evaluating the Model\n",
    "# Making the Predictions and Evaluating the Model\n",
    "# Making the Predictions and Evaluating the Model\n",
    "# Making the Predictions and Evaluating the Model\n",
    "# Making the Predictions and Evaluating the Model\n",
    "# Making the Predictions and Evaluating the Model\n",
    "# Making the Predictions and Evaluating the Model\n",
    "# Making the Predictions and Evaluating the Model\n",
    "# Making the Predictions and Evaluating the Model"
   ]
  },
  {
   "cell_type": "code",
   "execution_count": 46,
   "id": "56bd48f9",
   "metadata": {},
   "outputs": [
    {
     "name": "stdout",
     "output_type": "stream",
     "text": [
      "1/1 [==============================] - 0s 45ms/step\n",
      "[[0.03104412]]\n"
     ]
    }
   ],
   "source": [
    "# Predicting for a customer with following Data\n",
    "#Geography = France\n",
    "#Credit Score = 600\n",
    "#Gender = Male\n",
    "#Age = 40\n",
    "#Tenure = 3\n",
    "#Balance = $60000\n",
    "#Number of products = 2\n",
    "#Have a credit card = Yes\n",
    "#Active Member = Yes\n",
    "#Estimated Salary = $50000\n",
    "#Will he leave the bank?\n",
    "\n",
    "\n",
    "print(ann.predict(sc.transform([[1, 0, 0, 600, 1, 40, 3, 60000, 2, 1, 1, 50000]])))"
   ]
  },
  {
   "cell_type": "code",
   "execution_count": 47,
   "id": "e29b5a0e",
   "metadata": {},
   "outputs": [
    {
     "name": "stdout",
     "output_type": "stream",
     "text": [
      "1/1 [==============================] - 0s 46ms/step\n",
      "[[False]]\n"
     ]
    }
   ],
   "source": [
    "print(ann.predict(sc.transform([[1, 0, 0, 600, 1, 40, 3, 60000, 2, 1, 1, 50000]])) > 0.5)"
   ]
  },
  {
   "cell_type": "code",
   "execution_count": 50,
   "id": "d37c0fe6",
   "metadata": {},
   "outputs": [
    {
     "name": "stdout",
     "output_type": "stream",
     "text": [
      "104/104 [==============================] - 0s 2ms/step\n",
      "[[0 0]\n",
      " [0 0]\n",
      " [1 1]\n",
      " ...\n",
      " [0 0]\n",
      " [0 0]\n",
      " [0 0]]\n"
     ]
    }
   ],
   "source": [
    "y_pred = ann.predict(X_test)\n",
    "y_pred = (y_pred > 0.5)\n",
    "print(np.concatenate((y_pred.reshape(len(y_pred),1), y_test.reshape(len(y_test),1)),1))"
   ]
  },
  {
   "cell_type": "code",
   "execution_count": 53,
   "id": "dd1e0e60",
   "metadata": {},
   "outputs": [
    {
     "name": "stdout",
     "output_type": "stream",
     "text": [
      "[[2501  119]\n",
      " [ 337  343]]\n"
     ]
    },
    {
     "data": {
      "text/plain": [
       "0.8618181818181818"
      ]
     },
     "execution_count": 53,
     "metadata": {},
     "output_type": "execute_result"
    }
   ],
   "source": [
    "from sklearn.metrics import confusion_matrix, accuracy_score\n",
    "cm = confusion_matrix(y_test, y_pred)\n",
    "print(cm)\n",
    "accuracy_score(y_test, y_pred)"
   ]
  },
  {
   "cell_type": "code",
   "execution_count": null,
   "id": "b10aa37a",
   "metadata": {},
   "outputs": [],
   "source": []
  }
 ],
 "metadata": {
  "kernelspec": {
   "display_name": "Python 3 (ipykernel)",
   "language": "python",
   "name": "python3"
  },
  "language_info": {
   "codemirror_mode": {
    "name": "ipython",
    "version": 3
   },
   "file_extension": ".py",
   "mimetype": "text/x-python",
   "name": "python",
   "nbconvert_exporter": "python",
   "pygments_lexer": "ipython3",
   "version": "3.11.3"
  }
 },
 "nbformat": 4,
 "nbformat_minor": 5
}
